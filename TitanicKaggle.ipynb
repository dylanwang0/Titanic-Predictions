{
  "nbformat": 4,
  "nbformat_minor": 0,
  "metadata": {
    "colab": {
      "name": "TitanicKaggle.ipynb",
      "provenance": [],
      "collapsed_sections": []
    },
    "kernelspec": {
      "name": "python3",
      "display_name": "Python 3"
    },
    "language_info": {
      "name": "python"
    }
  },
  "cells": [
    {
      "cell_type": "code",
      "metadata": {
        "id": "wNKZWc8mz51-"
      },
      "source": [
        "import pandas as pd\n",
        "import numpy as np\n",
        "from sklearn.ensemble import RandomForestClassifier, GradientBoostingClassifier, AdaBoostClassifier\n",
        "from sklearn.tree import DecisionTreeClassifier\n",
        "import xgboost as xgb\n",
        "from sklearn.model_selection import train_test_split\n",
        "from sklearn.linear_model import LogisticRegression\n",
        "from sklearn import tree\n",
        "from sklearn.model_selection import GridSearchCV\n",
        "import matplotlib.pyplot as plt\n",
        "from sklearn import datasets\n",
        "from sklearn.metrics import classification_report\n",
        "from xgboost import XGBClassifier\n",
        "from sklearn.model_selection import KFold\n",
        "from sklearn.model_selection import cross_val_score\n",
        "import re\n",
        "import math"
      ],
      "execution_count": null,
      "outputs": []
    },
    {
      "cell_type": "code",
      "metadata": {
        "id": "TU5pQkvB0Ipk"
      },
      "source": [
        "df = pd.read_csv(\"./train.csv\")"
      ],
      "execution_count": null,
      "outputs": []
    },
    {
      "cell_type": "code",
      "metadata": {
        "colab": {
          "base_uri": "https://localhost:8080/",
          "height": 255
        },
        "id": "mJ9QTK3C0KFm",
        "outputId": "38bb498e-8d5c-41c3-954b-46745f765db5"
      },
      "source": [
        "df.head()"
      ],
      "execution_count": null,
      "outputs": [
        {
          "output_type": "execute_result",
          "data": {
            "text/html": [
              "<div>\n",
              "<style scoped>\n",
              "    .dataframe tbody tr th:only-of-type {\n",
              "        vertical-align: middle;\n",
              "    }\n",
              "\n",
              "    .dataframe tbody tr th {\n",
              "        vertical-align: top;\n",
              "    }\n",
              "\n",
              "    .dataframe thead th {\n",
              "        text-align: right;\n",
              "    }\n",
              "</style>\n",
              "<table border=\"1\" class=\"dataframe\">\n",
              "  <thead>\n",
              "    <tr style=\"text-align: right;\">\n",
              "      <th></th>\n",
              "      <th>PassengerId</th>\n",
              "      <th>Survived</th>\n",
              "      <th>Pclass</th>\n",
              "      <th>Name</th>\n",
              "      <th>Sex</th>\n",
              "      <th>Age</th>\n",
              "      <th>SibSp</th>\n",
              "      <th>Parch</th>\n",
              "      <th>Ticket</th>\n",
              "      <th>Fare</th>\n",
              "      <th>Cabin</th>\n",
              "      <th>Embarked</th>\n",
              "    </tr>\n",
              "  </thead>\n",
              "  <tbody>\n",
              "    <tr>\n",
              "      <th>0</th>\n",
              "      <td>1</td>\n",
              "      <td>0</td>\n",
              "      <td>3</td>\n",
              "      <td>Braund, Mr. Owen Harris</td>\n",
              "      <td>male</td>\n",
              "      <td>22.0</td>\n",
              "      <td>1</td>\n",
              "      <td>0</td>\n",
              "      <td>A/5 21171</td>\n",
              "      <td>7.2500</td>\n",
              "      <td>NaN</td>\n",
              "      <td>S</td>\n",
              "    </tr>\n",
              "    <tr>\n",
              "      <th>1</th>\n",
              "      <td>2</td>\n",
              "      <td>1</td>\n",
              "      <td>1</td>\n",
              "      <td>Cumings, Mrs. John Bradley (Florence Briggs Th...</td>\n",
              "      <td>female</td>\n",
              "      <td>38.0</td>\n",
              "      <td>1</td>\n",
              "      <td>0</td>\n",
              "      <td>PC 17599</td>\n",
              "      <td>71.2833</td>\n",
              "      <td>C85</td>\n",
              "      <td>C</td>\n",
              "    </tr>\n",
              "    <tr>\n",
              "      <th>2</th>\n",
              "      <td>3</td>\n",
              "      <td>1</td>\n",
              "      <td>3</td>\n",
              "      <td>Heikkinen, Miss. Laina</td>\n",
              "      <td>female</td>\n",
              "      <td>26.0</td>\n",
              "      <td>0</td>\n",
              "      <td>0</td>\n",
              "      <td>STON/O2. 3101282</td>\n",
              "      <td>7.9250</td>\n",
              "      <td>NaN</td>\n",
              "      <td>S</td>\n",
              "    </tr>\n",
              "    <tr>\n",
              "      <th>3</th>\n",
              "      <td>4</td>\n",
              "      <td>1</td>\n",
              "      <td>1</td>\n",
              "      <td>Futrelle, Mrs. Jacques Heath (Lily May Peel)</td>\n",
              "      <td>female</td>\n",
              "      <td>35.0</td>\n",
              "      <td>1</td>\n",
              "      <td>0</td>\n",
              "      <td>113803</td>\n",
              "      <td>53.1000</td>\n",
              "      <td>C123</td>\n",
              "      <td>S</td>\n",
              "    </tr>\n",
              "    <tr>\n",
              "      <th>4</th>\n",
              "      <td>5</td>\n",
              "      <td>0</td>\n",
              "      <td>3</td>\n",
              "      <td>Allen, Mr. William Henry</td>\n",
              "      <td>male</td>\n",
              "      <td>35.0</td>\n",
              "      <td>0</td>\n",
              "      <td>0</td>\n",
              "      <td>373450</td>\n",
              "      <td>8.0500</td>\n",
              "      <td>NaN</td>\n",
              "      <td>S</td>\n",
              "    </tr>\n",
              "  </tbody>\n",
              "</table>\n",
              "</div>"
            ],
            "text/plain": [
              "   PassengerId  Survived  Pclass  ...     Fare Cabin  Embarked\n",
              "0            1         0       3  ...   7.2500   NaN         S\n",
              "1            2         1       1  ...  71.2833   C85         C\n",
              "2            3         1       3  ...   7.9250   NaN         S\n",
              "3            4         1       1  ...  53.1000  C123         S\n",
              "4            5         0       3  ...   8.0500   NaN         S\n",
              "\n",
              "[5 rows x 12 columns]"
            ]
          },
          "metadata": {
            "tags": []
          },
          "execution_count": 131
        }
      ]
    },
    {
      "cell_type": "code",
      "metadata": {
        "id": "PFvcvfisD4Pu"
      },
      "source": [
        "df['Embarked'].fillna(df['Embarked'].mode()[0], inplace = True)\n",
        "df['Fare'].fillna(df['Fare'].median(), inplace = True)\n",
        "df['Age'].fillna(df['Age'].median(),inplace=True)"
      ],
      "execution_count": null,
      "outputs": []
    },
    {
      "cell_type": "code",
      "metadata": {
        "colab": {
          "base_uri": "https://localhost:8080/"
        },
        "id": "B13wF5BDZpXA",
        "outputId": "3d74e566-a17b-49ad-ebf4-dec547b33561"
      },
      "source": [
        "df.isnull().sum()"
      ],
      "execution_count": null,
      "outputs": [
        {
          "output_type": "execute_result",
          "data": {
            "text/plain": [
              "PassengerId      0\n",
              "Survived         0\n",
              "Pclass           0\n",
              "Name             0\n",
              "Sex              0\n",
              "Age              0\n",
              "SibSp            0\n",
              "Parch            0\n",
              "Ticket           0\n",
              "Fare             0\n",
              "Cabin          687\n",
              "Embarked         0\n",
              "dtype: int64"
            ]
          },
          "metadata": {
            "tags": []
          },
          "execution_count": 133
        }
      ]
    },
    {
      "cell_type": "code",
      "metadata": {
        "id": "agTZ_x-RCkvQ"
      },
      "source": [
        "df['Sex'] = df['Sex'].apply(lambda x: 0 if x == 'male' else 1)\n",
        "df['Age'] = df['Age'].apply(lambda x: 0.0 if x <= 16 else (1.0 if x <= 26 else (2.0 if x <= 36 else 3.0)))\n",
        "df['Fare'] = df['Fare'].apply(lambda x: 0.0 if x <= 17 else (1.0 if x <= 30 else (2.0 if x <= 100 else 3.0)))\n",
        "df['Embarked'] = df['Embarked'].apply(lambda x: 0 if x == 'S' else (1 if x == 'C' else 2))\n",
        "df['FamilySize'] = (df['SibSp'] + df['Parch']) / 2.5\n",
        "df['AgeTimesPclass'] = df['Age'] * df['Pclass']\n",
        "df['Mr'] = df['Name'].apply(lambda x: 1 if re.findall('[A-Za-z]+\\.',x)[0] == 'Mr.' else 0)\n",
        "df['Mrs'] = df['Name'].apply(lambda x: 1 if re.findall('[A-Za-z]+\\.',x)[0] == 'Mrs.' else 0)\n",
        "df['Ms'] = df['Name'].apply(lambda x: 1 if re.findall('[A-Za-z]+\\.',x)[0] == 'Ms.' else 0)\n",
        "df['Dr'] = df['Name'].apply(lambda x: 1 if re.findall('[A-Za-z]+\\.',x)[0] == 'Dr.' else 0)\n",
        "df['Alone'] = df['FamilySize'].apply(lambda x:1 if x==0 else 0)\n",
        "drop_features = ['Name','SibSp','Parch','Ticket','Cabin']\n",
        "df.drop(drop_features,inplace=True,axis=1)"
      ],
      "execution_count": null,
      "outputs": []
    },
    {
      "cell_type": "code",
      "metadata": {
        "colab": {
          "base_uri": "https://localhost:8080/",
          "height": 204
        },
        "id": "fjA6H3VUEr4Y",
        "outputId": "24e5775b-bea8-451e-93d7-dde009c36b60"
      },
      "source": [
        "df.head()"
      ],
      "execution_count": null,
      "outputs": [
        {
          "output_type": "execute_result",
          "data": {
            "text/html": [
              "<div>\n",
              "<style scoped>\n",
              "    .dataframe tbody tr th:only-of-type {\n",
              "        vertical-align: middle;\n",
              "    }\n",
              "\n",
              "    .dataframe tbody tr th {\n",
              "        vertical-align: top;\n",
              "    }\n",
              "\n",
              "    .dataframe thead th {\n",
              "        text-align: right;\n",
              "    }\n",
              "</style>\n",
              "<table border=\"1\" class=\"dataframe\">\n",
              "  <thead>\n",
              "    <tr style=\"text-align: right;\">\n",
              "      <th></th>\n",
              "      <th>PassengerId</th>\n",
              "      <th>Survived</th>\n",
              "      <th>Pclass</th>\n",
              "      <th>Sex</th>\n",
              "      <th>Age</th>\n",
              "      <th>Fare</th>\n",
              "      <th>Embarked</th>\n",
              "      <th>FamilySize</th>\n",
              "      <th>AgeTimesPclass</th>\n",
              "      <th>Mr</th>\n",
              "      <th>Mrs</th>\n",
              "      <th>Ms</th>\n",
              "      <th>Dr</th>\n",
              "      <th>Alone</th>\n",
              "    </tr>\n",
              "  </thead>\n",
              "  <tbody>\n",
              "    <tr>\n",
              "      <th>0</th>\n",
              "      <td>1</td>\n",
              "      <td>0</td>\n",
              "      <td>3</td>\n",
              "      <td>0</td>\n",
              "      <td>1.0</td>\n",
              "      <td>0.0</td>\n",
              "      <td>0</td>\n",
              "      <td>0.4</td>\n",
              "      <td>3.0</td>\n",
              "      <td>1</td>\n",
              "      <td>0</td>\n",
              "      <td>0</td>\n",
              "      <td>0</td>\n",
              "      <td>0</td>\n",
              "    </tr>\n",
              "    <tr>\n",
              "      <th>1</th>\n",
              "      <td>2</td>\n",
              "      <td>1</td>\n",
              "      <td>1</td>\n",
              "      <td>1</td>\n",
              "      <td>3.0</td>\n",
              "      <td>2.0</td>\n",
              "      <td>1</td>\n",
              "      <td>0.4</td>\n",
              "      <td>3.0</td>\n",
              "      <td>0</td>\n",
              "      <td>1</td>\n",
              "      <td>0</td>\n",
              "      <td>0</td>\n",
              "      <td>0</td>\n",
              "    </tr>\n",
              "    <tr>\n",
              "      <th>2</th>\n",
              "      <td>3</td>\n",
              "      <td>1</td>\n",
              "      <td>3</td>\n",
              "      <td>1</td>\n",
              "      <td>1.0</td>\n",
              "      <td>0.0</td>\n",
              "      <td>0</td>\n",
              "      <td>0.0</td>\n",
              "      <td>3.0</td>\n",
              "      <td>0</td>\n",
              "      <td>0</td>\n",
              "      <td>0</td>\n",
              "      <td>0</td>\n",
              "      <td>1</td>\n",
              "    </tr>\n",
              "    <tr>\n",
              "      <th>3</th>\n",
              "      <td>4</td>\n",
              "      <td>1</td>\n",
              "      <td>1</td>\n",
              "      <td>1</td>\n",
              "      <td>2.0</td>\n",
              "      <td>2.0</td>\n",
              "      <td>0</td>\n",
              "      <td>0.4</td>\n",
              "      <td>2.0</td>\n",
              "      <td>0</td>\n",
              "      <td>1</td>\n",
              "      <td>0</td>\n",
              "      <td>0</td>\n",
              "      <td>0</td>\n",
              "    </tr>\n",
              "    <tr>\n",
              "      <th>4</th>\n",
              "      <td>5</td>\n",
              "      <td>0</td>\n",
              "      <td>3</td>\n",
              "      <td>0</td>\n",
              "      <td>2.0</td>\n",
              "      <td>0.0</td>\n",
              "      <td>0</td>\n",
              "      <td>0.0</td>\n",
              "      <td>6.0</td>\n",
              "      <td>1</td>\n",
              "      <td>0</td>\n",
              "      <td>0</td>\n",
              "      <td>0</td>\n",
              "      <td>1</td>\n",
              "    </tr>\n",
              "  </tbody>\n",
              "</table>\n",
              "</div>"
            ],
            "text/plain": [
              "   PassengerId  Survived  Pclass  Sex  Age  ...  Mr  Mrs  Ms  Dr  Alone\n",
              "0            1         0       3    0  1.0  ...   1    0   0   0      0\n",
              "1            2         1       1    1  3.0  ...   0    1   0   0      0\n",
              "2            3         1       3    1  1.0  ...   0    0   0   0      1\n",
              "3            4         1       1    1  2.0  ...   0    1   0   0      0\n",
              "4            5         0       3    0  2.0  ...   1    0   0   0      1\n",
              "\n",
              "[5 rows x 14 columns]"
            ]
          },
          "metadata": {
            "tags": []
          },
          "execution_count": 135
        }
      ]
    },
    {
      "cell_type": "code",
      "metadata": {
        "id": "EAhn8ESm0MUx"
      },
      "source": [
        "x_train, x_test, y_train, y_test = train_test_split(df.loc[:,'Pclass':],df.Survived,\\\n",
        "                                                          test_size=0.1)"
      ],
      "execution_count": null,
      "outputs": []
    },
    {
      "cell_type": "code",
      "metadata": {
        "colab": {
          "base_uri": "https://localhost:8080/"
        },
        "id": "Dpp1EDmz_sgp",
        "outputId": "5c45758f-9cc4-463e-d347-2190bada5e9c"
      },
      "source": [
        "rf_model = RandomForestClassifier(criterion='gini', n_estimators=1000,\n",
        "                               max_depth=5, min_samples_split=4,\n",
        "                               min_samples_leaf=5, max_features='auto',\n",
        "                               oob_score=True, random_state=0)\n",
        "rf_model.fit(x_train,y_train)\n",
        "rf_model_predictions = rf_model.predict(x_test)\n",
        "print(classification_report(y_test,rf_model_predictions))"
      ],
      "execution_count": null,
      "outputs": [
        {
          "output_type": "stream",
          "text": [
            "              precision    recall  f1-score   support\n",
            "\n",
            "           0       0.91      0.89      0.90        57\n",
            "           1       0.82      0.85      0.84        33\n",
            "\n",
            "    accuracy                           0.88        90\n",
            "   macro avg       0.87      0.87      0.87        90\n",
            "weighted avg       0.88      0.88      0.88        90\n",
            "\n"
          ],
          "name": "stdout"
        }
      ]
    },
    {
      "cell_type": "code",
      "metadata": {
        "colab": {
          "base_uri": "https://localhost:8080/"
        },
        "id": "2pmxaSekA5HD",
        "outputId": "4c90d6cd-d3d5-44f1-a744-8f206b0b0335"
      },
      "source": [
        "rf_model.score(x_test,y_test)"
      ],
      "execution_count": null,
      "outputs": [
        {
          "output_type": "execute_result",
          "data": {
            "text/plain": [
              "0.8777777777777778"
            ]
          },
          "metadata": {
            "tags": []
          },
          "execution_count": 145
        }
      ]
    },
    {
      "cell_type": "code",
      "metadata": {
        "id": "jR4eFawXePxM"
      },
      "source": [
        "kf = KFold(n_splits=10, random_state=42, shuffle=True)"
      ],
      "execution_count": null,
      "outputs": []
    },
    {
      "cell_type": "code",
      "metadata": {
        "colab": {
          "base_uri": "https://localhost:8080/"
        },
        "id": "u0ieaRQaeDzM",
        "outputId": "208d7695-dc43-4341-da17-5dd19e87a8f3"
      },
      "source": [
        "X = df.loc[:,'Pclass':]\n",
        "y = df.loc[:,'Survived']\n",
        "scoring = 'accuracy'\n",
        "results = cross_val_score(rf_model, X.values, y.values, cv=kf, n_jobs=1, scoring=scoring)\n",
        "results"
      ],
      "execution_count": null,
      "outputs": [
        {
          "output_type": "execute_result",
          "data": {
            "text/plain": [
              "array([0.85555556, 0.80898876, 0.84269663, 0.80898876, 0.86516854,\n",
              "       0.86516854, 0.78651685, 0.83146067, 0.79775281, 0.8988764 ])"
            ]
          },
          "metadata": {
            "tags": []
          },
          "execution_count": 147
        }
      ]
    },
    {
      "cell_type": "code",
      "metadata": {
        "colab": {
          "base_uri": "https://localhost:8080/"
        },
        "id": "NtdaFh-AeEV0",
        "outputId": "ff48ac5b-329b-4790-f323-c7f0e0a4a4b7"
      },
      "source": [
        "print(results.mean())"
      ],
      "execution_count": null,
      "outputs": [
        {
          "output_type": "stream",
          "text": [
            "0.8361173533083643\n"
          ],
          "name": "stdout"
        }
      ]
    },
    {
      "cell_type": "code",
      "metadata": {
        "id": "0y5aGpvd0N3E"
      },
      "source": [
        "df_test = pd.read_csv(\"./test.csv\")\n",
        "df_test['Embarked'].fillna(df_test['Embarked'].mode()[0], inplace = True)\n",
        "df_test['Fare'].fillna(df_test['Fare'].median(), inplace = True)\n",
        "df_test['Age'].fillna(df_test['Age'].median(),inplace=True)\n",
        "df_test['Sex'] = df_test['Sex'].apply(lambda x: 0 if x == 'male' else 1)\n",
        "df_test['Age'] = df_test['Age'].apply(lambda x: 0.0 if x <= 16 else (1.0 if x <= 26 else (2.0 if x <= 36 else 3.0)))\n",
        "df_test['Fare'] = df_test['Fare'].apply(lambda x: 0.0 if x <= 17 else (1.0 if x <= 30 else (2.0 if x <= 100 else 3.0)))\n",
        "df_test['Embarked'] = df_test['Embarked'].apply(lambda x: 0 if x == 'S' else (1 if x == 'C' else 2))\n",
        "df_test['FamilySize'] = (df_test['SibSp'] + df_test['Parch']) / 2.5\n",
        "df_test['AgeTimesPclass'] = df_test['Age'] * df_test['Pclass']\n",
        "df_test['Mr'] = df_test['Name'].apply(lambda x: 1 if re.findall('[A-Za-z]+\\.',x)[0] == 'Mr.' else 0)\n",
        "df_test['Mrs'] = df_test['Name'].apply(lambda x: 1 if re.findall('[A-Za-z]+\\.',x)[0] == 'Mrs.' else 0)\n",
        "df_test['Ms'] = df_test['Name'].apply(lambda x: 1 if re.findall('[A-Za-z]+\\.',x)[0] == 'Ms.' else 0)\n",
        "df_test['Dr'] = df_test['Name'].apply(lambda x: 1 if re.findall('[A-Za-z]+\\.',x)[0] == 'Dr.' else 0)\n",
        "df_test['Alone'] = df_test['FamilySize'].apply(lambda x:1 if x==0 else 0)\n",
        "drop_features = ['Name','SibSp','Parch','Ticket','Cabin']\n",
        "df_test.drop(drop_features,inplace=True,axis=1)\n",
        "\n",
        "predictions_for_submission = rf_model.predict(df_test.loc[:,\"Pclass\":])\n",
        "df_submission = df_test[['PassengerId']].copy()\n",
        "df_submission['Survived'] = predictions_for_submission\n",
        "df_submission.to_csv(\"submission_v1.csv\")"
      ],
      "execution_count": null,
      "outputs": []
    },
    {
      "cell_type": "code",
      "metadata": {
        "id": "yDQ1vxaD0SZw"
      },
      "source": [
        ""
      ],
      "execution_count": null,
      "outputs": []
    }
  ]
}